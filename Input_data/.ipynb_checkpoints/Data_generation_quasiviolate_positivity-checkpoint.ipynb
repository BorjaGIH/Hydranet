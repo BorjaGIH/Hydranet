{
 "cells": [
  {
   "cell_type": "markdown",
   "metadata": {},
   "source": [
    "# Semi-synthetic data generation with IHDP\n",
    "## Based on Vincent Dorie's NPCI's DGP from https://github.com/vdorie/npci"
   ]
  },
  {
   "cell_type": "code",
   "execution_count": 1,
   "metadata": {},
   "outputs": [],
   "source": [
    "import sklearn\n",
    "import numpy as np\n",
    "import keras\n",
    "import pandas as pd\n",
    "import tensorflow as tf"
   ]
  },
  {
   "cell_type": "markdown",
   "metadata": {},
   "source": [
    "### Read and process covariates"
   ]
  },
  {
   "cell_type": "code",
   "execution_count": 2,
   "metadata": {},
   "outputs": [],
   "source": [
    "np.random.seed(8)\n",
    "\n",
    "# Read\n",
    "covar_file = '/home/bvelasco/PhD/Dragonnet/dragonnet/dat/ihdp/ihdp.csv'\n",
    "covars = pd.read_csv(covar_file)\n",
    "#covars.sample(frac=0.01)\n",
    "\n",
    "# Augment data (replicate)\n",
    "number_of_replications=10\n",
    "covars = covars.loc[covars.index.repeat(number_of_replications)]\n",
    "#covars = covars.sample(frac=1).reset_index(drop=True)\n",
    "covars = covars.reset_index(drop=True)\n",
    "\n",
    "# Drop unneeded\n",
    "covars.drop(['Unnamed: 0'], axis=1, inplace=True)\n",
    "\n",
    "# Fix 'first' var\n",
    "covars['first'] = covars['first']-1\n",
    "\n",
    "# Continuous vars\n",
    "conts = ['bw', 'b.head', 'preterm', 'birth.o', 'nnhealth', 'momage']\n",
    "# Binary vars\n",
    "binar = [var for var in list(covars.columns.values) if var not in conts]\n",
    "\n",
    "# Normalize continuous vars\n",
    "for col in conts:\n",
    "    covars[col] = (covars[col]-covars[col].mean())/covars[col].std()\n",
    "    "
   ]
  },
  {
   "cell_type": "markdown",
   "metadata": {},
   "source": [
    "### Distribution of example vars before adding noise"
   ]
  },
  {
   "cell_type": "code",
   "execution_count": 3,
   "metadata": {
    "jupyter": {
     "source_hidden": true
    }
   },
   "outputs": [
    {
     "data": {
      "text/plain": [
       "<AxesSubplot:>"
      ]
     },
     "execution_count": 3,
     "metadata": {},
     "output_type": "execute_result"
    },
    {
     "data": {
      "image/png": "[encoded data removed]",
      "text/plain": [
       "<Figure size 432x288 with 1 Axes>"
      ]
     },
     "metadata": {
      "needs_background": "light"
     },
     "output_type": "display_data"
    }
   ],
   "source": [
    "covars.bw.hist(bins=15)"
   ]
  },
  {
   "cell_type": "code",
   "execution_count": 4,
   "metadata": {
    "jupyter": {
     "source_hidden": true
    }
   },
   "outputs": [
    {
     "data": {
      "text/plain": [
       "<AxesSubplot:>"
      ]
     },
     "execution_count": 4,
     "metadata": {},
     "output_type": "execute_result"
    },
    {
     "data": {
      "image/png": "[encoded data removed]",
      "text/plain": [
       "<Figure size 432x288 with 1 Axes>"
      ]
     },
     "metadata": {
      "needs_background": "light"
     },
     "output_type": "display_data"
    }
   ],
   "source": [
    "covars.momhisp.hist(bins=3)"
   ]
  },
  {
   "cell_type": "code",
   "execution_count": 5,
   "metadata": {
    "jupyter": {
     "source_hidden": true
    }
   },
   "outputs": [],
   "source": [
    "# Add noise continuous vars\n",
    "for col in conts:\n",
    "    normal_noise = np.random.normal(0,0.8,len(covars))\n",
    "    uniform_noise = np.random.uniform(-0.5,0.5,len(covars))\n",
    "    covars[col] = covars[col] + uniform_noise\n"
   ]
  },
  {
   "cell_type": "code",
   "execution_count": 6,
   "metadata": {
    "jupyter": {
     "source_hidden": true
    }
   },
   "outputs": [
    {
     "name": "stderr",
     "output_type": "stream",
     "text": [
      "/home/bvelasco/.conda/envs/python3.6/lib/python3.6/site-packages/ipykernel_launcher.py:4: SettingWithCopyWarning: \n",
      "A value is trying to be set on a copy of a slice from a DataFrame.\n",
      "Try using .loc[row_indexer,col_indexer] = value instead\n",
      "\n",
      "See the caveats in the documentation: https://pandas.pydata.org/pandas-docs/stable/user_guide/indexing.html#returning-a-view-versus-a-copy\n",
      "  after removing the cwd from sys.path.\n"
     ]
    }
   ],
   "source": [
    "# Add noise to binary vars\n",
    "for col in binar:\n",
    "    binomial_noise = np.random.binomial(1, 0.2, len(covars))\n",
    "    covars.loc[binomial_noise==0][col] = 1-covars.loc[binomial_noise==0,col]\n"
   ]
  },
  {
   "cell_type": "markdown",
   "metadata": {},
   "source": [
    "### Distribution of var bw after adding noise"
   ]
  },
  {
   "cell_type": "code",
   "execution_count": 7,
   "metadata": {
    "jupyter": {
     "source_hidden": true
    }
   },
   "outputs": [
    {
     "data": {
      "text/plain": [
       "<AxesSubplot:>"
      ]
     },
     "execution_count": 7,
     "metadata": {},
     "output_type": "execute_result"
    },
    {
     "data": {
      "image/png": "[encoded data removed]",
      "text/plain": [
       "<Figure size 432x288 with 1 Axes>"
      ]
     },
     "metadata": {
      "needs_background": "light"
     },
     "output_type": "display_data"
    }
   ],
   "source": [
    "covars.bw.hist(bins=15)"
   ]
  },
  {
   "cell_type": "code",
   "execution_count": 8,
   "metadata": {
    "jupyter": {
     "source_hidden": true
    }
   },
   "outputs": [
    {
     "data": {
      "text/plain": [
       "<AxesSubplot:>"
      ]
     },
     "execution_count": 8,
     "metadata": {},
     "output_type": "execute_result"
    },
    {
     "data": {
      "image/png": "[encoded data removed]",
      "text/plain": [
       "<Figure size 432x288 with 1 Axes>"
      ]
     },
     "metadata": {
      "needs_background": "light"
     },
     "output_type": "display_data"
    }
   ],
   "source": [
    "covars.momhisp.hist(bins=3)"
   ]
  },
  {
   "cell_type": "markdown",
   "metadata": {},
   "source": [
    "### Treatment assignment and Response surfaces"
   ]
  },
  {
   "cell_type": "code",
   "execution_count": 9,
   "metadata": {},
   "outputs": [],
   "source": [
    "# Paramters\n",
    "t_vals = np.array([0,1,2]) # treatment options\n",
    "beta_vals = np.arange(0.0, 0.5, 0.1) # beta values\n",
    "beta_probs = np.array([0.7, 0.15, 0.1, 0.03, 0.02]) # beta probs\n",
    "w = np.ones((covars.shape[0], covars.shape[1]-1))*0.5 # offset matrix \n",
    "sigma = 1 # std\n",
    "num_reps = 10\n",
    "\n",
    "temp_all = pd.DataFrame(columns=['bw', 'b.head', 'preterm', 'birth.o', 'nnhealth', 'momage', 'sex',\n",
    "       'twin', 'b.marr', 'mom.lths', 'mom.hs', 'mom.scoll', 'cig', 'first',\n",
    "       'booze', 'drugs', 'work.dur', 'prenatal', 'ark', 'ein', 'har', 'mia',\n",
    "       'pen', 'tex', 'was', 'momwhite', 'momblack', 'momhisp', 'mu_0', 'mu_1',\n",
    "       'mu_2', 'y_0', 'y_1', 'y_2', 'y', 'z'])\n",
    "\n",
    "for i in range(num_reps):\n",
    "    \n",
    "    # Treatment assignment (probabilistic, non-random)\n",
    "    t_momblack = np.random.choice(t_vals, covars[covars.momblack==1].shape[0], replace=True, p=np.array([0.95, 0.025, 0.025]))\n",
    "    t_momwhite = np.random.choice(t_vals, covars[covars.momwhite==1].shape[0], replace=True, p=np.array([0.025, 0.95, 0.025]))\n",
    "    t_momhisp = np.random.choice(t_vals, covars[covars.momhisp==1].shape[0], replace=True, p=np.array([0.025, 0.025, 0.95]))\n",
    "    \n",
    "    #t_momblack = np.random.choice(t_vals, covars[covars.momblack==1].shape[0], replace=True, p=np.array([1, 0, 0]))\n",
    "    #t_momwhite = np.random.choice(t_vals, covars[covars.momwhite==1].shape[0], replace=True, p=np.array([0, 1, 0]))\n",
    "    #t_momhisp = np.random.choice(t_vals, covars[covars.momhisp==1].shape[0], replace=True, p=np.array([0, 0, 1]))\n",
    "\n",
    "    covars.loc[(covars['momblack']==1), 'treat'] = t_momblack\n",
    "    covars.loc[(covars['momwhite']==1), 'treat'] = t_momwhite\n",
    "    covars.loc[(covars['momhisp']==1), 'treat'] = t_momhisp\n",
    "\n",
    "    covars.reset_index(inplace=True, drop=True)\n",
    "    z = covars['treat']\n",
    "    covars.drop(['treat'], axis=1, inplace=True)\n",
    "    covars_tab = covars.copy()\n",
    "    #covars = covars.to_numpy()\n",
    "    \n",
    "    # Parameters  \n",
    "    beta = np.random.choice(beta_vals, covars.shape[1], replace=True, p=beta_probs) # multiplying vector\n",
    "    w = np.ones((covars.shape))*0.5 # offset matrix \n",
    "\n",
    "    # Response surface functions (function and sampling from distribution) \n",
    "    f_0 = lambda x: np.exp(np.matmul((x + w),beta)) + 20*x[:,26] # additive term for displacing the mean of the normal distribution based on T\n",
    "    f_1 = lambda x: np.log(np.abs(np.matmul(x,beta))) + 60*x[:,25]\n",
    "    f_2 = lambda x: np.matmul(x,beta) + 40*x[:,27]\n",
    "    y_f = lambda x: np.random.normal(x, sigma)\n",
    "    \n",
    "    # Response surface functions (function and sampling from distribution) \n",
    "    f_0 = lambda x: np.exp(np.matmul((x + w),beta)) + 20*x[:,26] # additive term for displacing the mean of the normal distribution based on T\n",
    "    f_1 = lambda x: np.log(np.abs(np.matmul(x,beta))) + 60*x[:,25]\n",
    "    f_2 = lambda x: np.matmul(x,beta) + 40*x[:,27]\n",
    "    y_f = lambda x: np.random.normal(x, sigma)\n",
    "\n",
    "    # Compute true effect\n",
    "    covars_tab['mu_0'] = f_0(covars.to_numpy())\n",
    "    covars_tab['mu_1'] = f_1(covars.to_numpy())\n",
    "    covars_tab['mu_2'] = f_2(covars.to_numpy())\n",
    "\n",
    "    # Sample from normal distribution\n",
    "    covars_tab['y_0'] = y_f(covars_tab.mu_0)\n",
    "    covars_tab['y_1'] = y_f(covars_tab.mu_1)\n",
    "    covars_tab['y_2'] = y_f(covars_tab.mu_2)\n",
    "    \n",
    "    y = covars_tab.y_0.copy()\n",
    "    y[z==0] = covars_tab.y_0[z==0].values\n",
    "    y[z==1] = covars_tab.y_1[z==1].values\n",
    "    y[z==2] = covars_tab.y_2[z==2].values\n",
    "\n",
    "    covars_tab['y'] = y\n",
    "    covars_tab['z'] = z.astype(int)\n",
    "    \n",
    "    temp_all = pd.concat([temp_all, covars_tab], axis=0)\n",
    "\n",
    "    filename = '/home/bvelasco/PhD/Dragonnet/dragonnet/dat/ihdp/tri_quasiviolation/ihdp_tri_{}.csv'.format(i)\n",
    "    #covars_tab.to_csv(filename)\n",
    "    "
   ]
  },
  {
   "cell_type": "markdown",
   "metadata": {},
   "source": [
    "## Statistics"
   ]
  },
  {
   "cell_type": "markdown",
   "metadata": {},
   "source": [
    "### Confounder proportions"
   ]
  },
  {
   "cell_type": "code",
   "execution_count": 10,
   "metadata": {
    "jupyter": {
     "source_hidden": true
    }
   },
   "outputs": [
    {
     "name": "stdout",
     "output_type": "stream",
     "text": [
      "Percentage of T==0: 0.5248730964467005\n",
      "Percentage of T==1: 0.36852791878172586\n",
      "Percentage of T==2: 0.1065989847715736\n"
     ]
    }
   ],
   "source": [
    "print('Percentage of T==0: {}'.format(sum(temp_all['momblack']==1)/len(temp_all)))\n",
    "print('Percentage of T==1: {}'.format(sum(temp_all['momwhite']==1)/len(temp_all)))\n",
    "print('Percentage of T==2: {}'.format(sum(temp_all['momhisp']==1)/len(temp_all)))"
   ]
  },
  {
   "cell_type": "markdown",
   "metadata": {},
   "source": [
    "### Treatment proportions"
   ]
  },
  {
   "cell_type": "code",
   "execution_count": 11,
   "metadata": {
    "jupyter": {
     "source_hidden": true
    }
   },
   "outputs": [
    {
     "name": "stdout",
     "output_type": "stream",
     "text": [
      "Percentage of T==0: 0.5110761421319797\n",
      "Percentage of T==1: 0.36581725888324873\n",
      "Percentage of T==2: 0.12310659898477157\n"
     ]
    }
   ],
   "source": [
    "print('Percentage of T==0: {}'.format(sum(temp_all['z']==0)/len(temp_all)))\n",
    "print('Percentage of T==1: {}'.format(sum(temp_all['z']==1)/len(temp_all)))\n",
    "print('Percentage of T==2: {}'.format(sum(temp_all['z']==2)/len(temp_all)))\n"
   ]
  },
  {
   "cell_type": "markdown",
   "metadata": {},
   "source": [
    "### Mean values of the true effects"
   ]
  },
  {
   "cell_type": "code",
   "execution_count": 12,
   "metadata": {
    "jupyter": {
     "source_hidden": true
    }
   },
   "outputs": [
    {
     "name": "stdout",
     "output_type": "stream",
     "text": [
      "True average y_0: 13.351423674619628\n",
      "True average y_1: 20.733758979915788\n",
      "True average y_2: 4.594490800895471\n"
     ]
    }
   ],
   "source": [
    "print('True average y_0: {}'.format(temp_all['y_0'].mean()))\n",
    "print('True average y_1: {}'.format(temp_all['y_1'].mean()))\n",
    "print('True average y_2: {}'.format(temp_all['y_2'].mean()))\n"
   ]
  },
  {
   "cell_type": "markdown",
   "metadata": {},
   "source": [
    "### Mean values of the biased effects"
   ]
  },
  {
   "cell_type": "code",
   "execution_count": 13,
   "metadata": {
    "jupyter": {
     "source_hidden": true
    }
   },
   "outputs": [
    {
     "name": "stdout",
     "output_type": "stream",
     "text": [
      "Biased average y0: 22.374812172711234\n",
      "Biased average y1: 56.01932943830792\n",
      "Biased average y2: 33.16066366121116\n"
     ]
    }
   ],
   "source": [
    "print('Biased average y0: {}'.format(temp_all.y[temp_all.z==0].mean()))\n",
    "print('Biased average y1: {}'.format(temp_all.y[temp_all.z==1].mean()))\n",
    "print('Biased average y2: {}'.format(temp_all.y[temp_all.z==2].mean()))\n"
   ]
  },
  {
   "cell_type": "code",
   "execution_count": 14,
   "metadata": {},
   "outputs": [],
   "source": [
    "### Histograms"
   ]
  },
  {
   "cell_type": "code",
   "execution_count": 21,
   "metadata": {},
   "outputs": [
    {
     "data": {
      "image/png": "[encoded data removed]",
      "text/plain": [
       "<Figure size 432x288 with 1 Axes>"
      ]
     },
     "metadata": {
      "needs_background": "light"
     },
     "output_type": "display_data"
    }
   ],
   "source": [
    "ax=temp_all.y_0.hist(bins=1000)\n",
    "temp_all.y[temp_all.z==0].hist(bins=1000)\n",
    "ax.legend(['Y0', 'Y[T=0]']);\n",
    "fig = ax.get_figure()\n",
    "#fig.savefig('totalv.pdf') "
   ]
  },
  {
   "cell_type": "code",
   "execution_count": 16,
   "metadata": {},
   "outputs": [
    {
     "data": {
      "image/png": "[encoded data removed]",
      "text/plain": [
       "<Figure size 432x288 with 1 Axes>"
      ]
     },
     "metadata": {
      "needs_background": "light"
     },
     "output_type": "display_data"
    }
   ],
   "source": [
    "ax=temp_all.y_1.hist(bins=1000)\n",
    "temp_all.y[temp_all.z==1].hist(bins=1000)\n",
    "ax.legend(['Y1', 'Y[T=1]']);\n",
    "fig = ax.get_figure()\n",
    "#fig.savefig('{}_y1_y_1.pdf'.format(bias_size))"
   ]
  },
  {
   "cell_type": "code",
   "execution_count": 17,
   "metadata": {},
   "outputs": [
    {
     "data": {
      "text/plain": [
       "<AxesSubplot:>"
      ]
     },
     "execution_count": 17,
     "metadata": {},
     "output_type": "execute_result"
    },
    {
     "data": {
      "image/png": "[encoded data removed]",
      "text/plain": [
       "<Figure size 432x288 with 1 Axes>"
      ]
     },
     "metadata": {
      "needs_background": "light"
     },
     "output_type": "display_data"
    }
   ],
   "source": [
    "temp_all.y_2.hist(bins=1000)\n",
    "temp_all.y[temp_all.z==2].hist(bins=1000)"
   ]
  },
  {
   "cell_type": "markdown",
   "metadata": {},
   "source": [
    "### ATE histograms"
   ]
  },
  {
   "cell_type": "code",
   "execution_count": 18,
   "metadata": {},
   "outputs": [
    {
     "data": {
      "text/plain": [
       "<AxesSubplot:>"
      ]
     },
     "execution_count": 18,
     "metadata": {},
     "output_type": "execute_result"
    },
    {
     "data": {
      "image/png": "[encoded data removed]",
      "text/plain": [
       "<Figure size 432x288 with 1 Axes>"
      ]
     },
     "metadata": {
      "needs_background": "light"
     },
     "output_type": "display_data"
    }
   ],
   "source": [
    "ax = (temp_all.y_1-temp_all.y_0).hist(bins=1000)\n",
    "(temp_all.y[temp_all.z==1]-temp_all.y[temp_all.z==0]).hist(bins=1000)\n",
    "#ax.legend(['{}_ATE1-ATE0', 'ATE[T=1]-ATE[T=0]'.format(bias_size)]);"
   ]
  },
  {
   "cell_type": "code",
   "execution_count": 19,
   "metadata": {},
   "outputs": [
    {
     "data": {
      "text/plain": [
       "<AxesSubplot:>"
      ]
     },
     "execution_count": 19,
     "metadata": {},
     "output_type": "execute_result"
    },
    {
     "data": {
      "image/png": "[encoded data removed]",
      "text/plain": [
       "<Figure size 432x288 with 1 Axes>"
      ]
     },
     "metadata": {
      "needs_background": "light"
     },
     "output_type": "display_data"
    }
   ],
   "source": [
    "(temp_all.y_2-temp_all.y_0).hist(bins=1000)\n",
    "(temp_all.y[temp_all.z==2]-temp_all.y[temp_all.z==0]).hist(bins=1000)"
   ]
  },
  {
   "cell_type": "code",
   "execution_count": null,
   "metadata": {},
   "outputs": [],
   "source": []
  }
 ],
 "metadata": {
  "kernelspec": {
   "display_name": "tensorflow-gpu-kernel",
   "language": "python",
   "name": "tensorflow-gpu-kernel"
  },
  "language_info": {
   "codemirror_mode": {
    "name": "ipython",
    "version": 3
   },
   "file_extension": ".py",
   "mimetype": "text/x-python",
   "name": "python",
   "nbconvert_exporter": "python",
   "pygments_lexer": "ipython3",
   "version": "3.9.15"
  }
 },
 "nbformat": 4,
 "nbformat_minor": 4
}
