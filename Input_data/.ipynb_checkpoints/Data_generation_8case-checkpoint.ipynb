{
 "cells": [
  {
   "cell_type": "markdown",
   "metadata": {},
   "source": [
    "# Semi-synthetic data generation with IHDP\n",
    "## Based on Vincent Dorie's NPCI's DGP from https://github.com/vdorie/npci"
   ]
  },
  {
   "cell_type": "code",
   "execution_count": 1,
   "metadata": {},
   "outputs": [],
   "source": [
    "import sklearn\n",
    "import numpy as np\n",
    "import keras\n",
    "import pandas as pd\n",
    "import tensorflow as tf\n",
    "import random\n",
    "import matplotlib.pyplot as plt\n",
    "import numpy.matlib as mat\n",
    "np.random.seed(5) #\n"
   ]
  },
  {
   "cell_type": "markdown",
   "metadata": {},
   "source": [
    "### Read and process covariates"
   ]
  },
  {
   "cell_type": "code",
   "execution_count": 2,
   "metadata": {},
   "outputs": [],
   "source": [
    "\n",
    "# Read\n",
    "covar_file = '/home/bvelasco/Hydranet_script/Input_data/ihdp.csv'\n",
    "covars = pd.read_csv(covar_file)\n",
    "#covars.sample(frac=0.01)\n",
    "\n",
    "# Augment data (replicate)\n",
    "number_of_replications=20\n",
    "covars = covars.loc[covars.index.repeat(number_of_replications)]\n",
    "#covars = covars.sample(frac=1).reset_index(drop=True)\n",
    "covars = covars.reset_index(drop=True)\n",
    "\n",
    "# Drop unneeded\n",
    "covars.drop(['Unnamed: 0'], axis=1, inplace=True)\n",
    "\n",
    "# Fix 'first' var\n",
    "covars['first'] = covars['first']-1\n",
    "\n",
    "# Continuous vars\n",
    "conts = ['bw', 'b.head', 'preterm', 'birth.o', 'nnhealth', 'momage']\n",
    "# Binary vars\n",
    "binar = [var for var in list(covars.columns.values) if var not in conts]\n",
    "\n",
    "# Normalize continuous vars\n",
    "for col in conts:\n",
    "    covars[col] = (covars[col]-covars[col].mean())/covars[col].std()\n",
    "\n",
    "# Shuffle\n",
    "covars = covars.sample(frac=1).reset_index(drop=True)"
   ]
  },
  {
   "cell_type": "markdown",
   "metadata": {},
   "source": [
    "### Distribution of example vars before adding noise"
   ]
  },
  {
   "cell_type": "code",
   "execution_count": 3,
   "metadata": {},
   "outputs": [],
   "source": [
    "#covars.bw.hist(bins=15)"
   ]
  },
  {
   "cell_type": "code",
   "execution_count": 4,
   "metadata": {},
   "outputs": [],
   "source": [
    "#covars.momhisp.hist(bins=3)"
   ]
  },
  {
   "cell_type": "code",
   "execution_count": 5,
   "metadata": {},
   "outputs": [],
   "source": [
    "# Add noise continuous vars\n",
    "for col in conts:\n",
    "    normal_noise = np.random.normal(0,0.8,len(covars))\n",
    "    uniform_noise = np.random.uniform(-0.5,0.5,len(covars))\n",
    "    covars[col] = covars[col] + uniform_noise\n"
   ]
  },
  {
   "cell_type": "code",
   "execution_count": 6,
   "metadata": {},
   "outputs": [
    {
     "name": "stderr",
     "output_type": "stream",
     "text": [
      "/home/bvelasco/.conda/envs/python3.6/lib/python3.6/site-packages/ipykernel_launcher.py:4: SettingWithCopyWarning: \n",
      "A value is trying to be set on a copy of a slice from a DataFrame.\n",
      "Try using .loc[row_indexer,col_indexer] = value instead\n",
      "\n",
      "See the caveats in the documentation: https://pandas.pydata.org/pandas-docs/stable/user_guide/indexing.html#returning-a-view-versus-a-copy\n",
      "  after removing the cwd from sys.path.\n"
     ]
    }
   ],
   "source": [
    "# Add noise to binary vars\n",
    "for col in binar:\n",
    "    binomial_noise = np.random.binomial(1, 0.2, len(covars))\n",
    "    covars.loc[binomial_noise==0][col] = 1-covars.loc[binomial_noise==0,col]\n"
   ]
  },
  {
   "cell_type": "markdown",
   "metadata": {},
   "source": [
    "### Distribution of var bw after adding noise"
   ]
  },
  {
   "cell_type": "code",
   "execution_count": 7,
   "metadata": {},
   "outputs": [],
   "source": [
    "#covars.bw.hist(bins=15)"
   ]
  },
  {
   "cell_type": "code",
   "execution_count": 8,
   "metadata": {},
   "outputs": [],
   "source": [
    "#covars.momhisp.hist(bins=3)"
   ]
  },
  {
   "cell_type": "markdown",
   "metadata": {},
   "source": [
    "### Treatment assignment and Response surfaces"
   ]
  },
  {
   "cell_type": "code",
   "execution_count": 13,
   "metadata": {},
   "outputs": [],
   "source": [
    "# Paramters\n",
    "w = np.ones((covars.shape[0], covars.shape[1]-1))*0.5 # offset matrix \n",
    "sigma = 1 # std\n",
    "num_reps = 50\n",
    "#affecting_covars = covars.sample(n=nconf, axis='columns').columns\n",
    "\n",
    "#nconf = 4\n",
    "#affecting_covars = ['bw','b.head','nnhealth','momage']\n",
    "\n",
    "#nconf = 8\n",
    "#affecting_covars = ['bw','b.head','nnhealth','momage','sex','twin','b.marr','first']\n",
    "\n",
    "#nconf = 12\n",
    "#affecting_covars = ['bw','b.head','nnhealth','momage','sex','twin','b.marr','first','prenatal','mia','drugs','pen']\n",
    "\n",
    "#nconf = 16\n",
    "#affecting_covars = ['bw','b.head','nnhealth','momage','sex','twin','b.marr','first','prenatal','mia','drugs','pen','momwhite', 'momblack','mom.scoll', 'cig']\n",
    "\n",
    "nconf = 20\n",
    "affecting_covars = ['bw','b.head','nnhealth','momage','sex','twin','b.marr','first','prenatal','mia','drugs','pen','momwhite', 'momblack','mom.scoll', 'cig', 'ark', 'mom.lths', 'ein', 'tex']\n",
    "\n",
    "multip_for_t = 3*np.random.randn(nconf)\n",
    "\n",
    "\n",
    "t_vals = np.array([0,1,2,3,4,5,6,7])\n",
    "p_yes=0.8\n",
    "p_no=0.2\n",
    "#p_yes_2=0.6\n",
    "#p_no_2=0.4\n",
    "\n",
    "# Treat assignment func\n",
    "def treatment_assignment_op(x):\n",
    "    for j in t_vals:\n",
    "        #if (j==0) or (j==7):\n",
    "        #    probs = np.array([p_no_2/7., p_no_2/7., p_no_2/7., p_no_2/7., p_no_2/7., p_no_2/7., p_no_2/7., p_no_2/7.])\n",
    "        #    probs[j]=p_yes_2\n",
    "        #    x[x==j] = np.random.choice(t_vals, size=sum(x==j), replace=True, p=probs)\n",
    "        #else:\n",
    "        probs = np.tile(p_no/(float(len(t_vals)-1)),len(t_vals))\n",
    "        probs[j]=p_yes\n",
    "        x[x==j] = np.random.choice(t_vals, size=sum(x==j), replace=True, p=probs)\n",
    "    return x\n",
    "\n",
    "\n",
    "temp_all = pd.DataFrame(columns=['treat', 'bw', 'b.head', 'preterm', 'birth.o', 'nnhealth', 'momage',\n",
    "       'sex', 'twin', 'b.marr', 'mom.lths', 'mom.hs', 'mom.scoll', 'cig',\n",
    "       'first', 'booze', 'drugs', 'work.dur', 'prenatal', 'ark', 'ein', 'har',\n",
    "       'mia', 'pen', 'tex', 'was', 'momwhite', 'momblack', 'momhisp', 'mu_0',\n",
    "       'mu_1', 'mu_2', 'mu_3', 'mu_4', 'mu_5', 'mu_6', 'mu_7', 'y_0', 'y_1',\n",
    "       'y_2', 'y_3', 'y_4', 'y_5', 'y_6', 'y_7', 'y', 'z'])\n",
    "for i in range(num_reps):\n",
    "    \n",
    "    # nonlinear model\n",
    "    #y = g(t,z)\n",
    "    #t = m(z)\n",
    "    \n",
    "    # Treatment assignment (probabilistic based on covariate, non-random)\n",
    "    M = covars[affecting_covars].to_numpy()\n",
    "    a = np.matmul(M, multip_for_t)\n",
    "    \n",
    "    t = np.floor(4*(np.tanh(0.1*a)+1))\n",
    "    t_new = treatment_assignment_op(t.copy())\n",
    "    z = t_new\n",
    "\n",
    "    covars.reset_index(inplace=True, drop=True)\n",
    "    covars_tab = covars.copy()\n",
    "    \n",
    "    # Parameters  \n",
    "    w = np.ones((covars.shape))*0.5 # offset matrix \n",
    "    beta = np.ones(nconf+1)\n",
    "\n",
    "    # Response surface functions (function and sampling from distribution)\n",
    "    f = lambda x,tt: np.log(np.abs(np.matmul(np.c_[x,tt**2],beta)))**4 #+ 2*tt**2\n",
    "    y_f = lambda x: np.random.normal(x, sigma)\n",
    "\n",
    "    \n",
    "    # Compute true effect\n",
    "    covars_tab['mu_0'] = f(M,np.zeros(M.shape[0]))\n",
    "    covars_tab['mu_1'] = f(M,1*np.ones(M.shape[0]))\n",
    "    covars_tab['mu_2'] = f(M,2*np.ones(M.shape[0]))\n",
    "    covars_tab['mu_3'] = f(M,3*np.ones(M.shape[0]))\n",
    "    covars_tab['mu_4'] = f(M,4*np.ones(M.shape[0]))\n",
    "    covars_tab['mu_5'] = f(M,5*np.ones(M.shape[0]))\n",
    "    covars_tab['mu_6'] = f(M,6*np.ones(M.shape[0]))\n",
    "    covars_tab['mu_7'] = f(M,7*np.ones(M.shape[0]))\n",
    "\n",
    "    \n",
    "    # Sample from normal distribution\n",
    "    covars_tab['y_0'] = y_f(covars_tab.mu_0)\n",
    "    covars_tab['y_1'] = y_f(covars_tab.mu_1)\n",
    "    covars_tab['y_2'] = y_f(covars_tab.mu_2)\n",
    "    covars_tab['y_3'] = y_f(covars_tab.mu_3)\n",
    "    covars_tab['y_4'] = y_f(covars_tab.mu_4)\n",
    "    covars_tab['y_5'] = y_f(covars_tab.mu_5)\n",
    "    covars_tab['y_6'] = y_f(covars_tab.mu_6)\n",
    "    covars_tab['y_7'] = y_f(covars_tab.mu_7)\n",
    "\n",
    "    \n",
    "    y = covars_tab.y_0.copy()\n",
    "    y[z==0] = covars_tab.y_0[z==0].values\n",
    "    y[z==1] = covars_tab.y_1[z==1].values\n",
    "    y[z==2] = covars_tab.y_2[z==2].values\n",
    "    y[z==3] = covars_tab.y_3[z==3].values\n",
    "    y[z==4] = covars_tab.y_4[z==4].values\n",
    "    y[z==5] = covars_tab.y_5[z==5].values\n",
    "    y[z==6] = covars_tab.y_6[z==6].values\n",
    "    y[z==7] = covars_tab.y_7[z==7].values\n",
    "\n",
    "\n",
    "    covars_tab['y'] = y\n",
    "    covars_tab['z'] = z.astype(int)\n",
    "        \n",
    "    temp_all = pd.concat([temp_all, covars_tab], axis=0)\n",
    "\n",
    "    filename = '/home/bvelasco/Hydranet_script/Input_data/ihdp/eight_case/conf_{}/ihdp_eight_{}.csv'.format(nconf,i)\n",
    "    covars_tab.to_csv(filename)\n",
    "    \n",
    "\n",
    "temp_all.reset_index(inplace=True, drop=True)\n"
   ]
  },
  {
   "cell_type": "code",
   "execution_count": 14,
   "metadata": {},
   "outputs": [
    {
     "data": {
      "image/png": "[encoded data removed]",
      "text/plain": [
       "<Figure size 432x288 with 1 Axes>"
      ]
     },
     "metadata": {
      "needs_background": "light"
     },
     "output_type": "display_data"
    }
   ],
   "source": [
    "plt.hist(temp_all['z'],bins=8);"
   ]
  },
  {
   "cell_type": "code",
   "execution_count": 15,
   "metadata": {},
   "outputs": [
    {
     "name": "stdout",
     "output_type": "stream",
     "text": [
      "[[0 62558]\n",
      " [1 70579]\n",
      " [2 83516]\n",
      " [3 93468]\n",
      " [4 112146]\n",
      " [5 139668]\n",
      " [6 176598]\n",
      " [7 246467]]\n"
     ]
    }
   ],
   "source": [
    "unique, counts = np.unique(temp_all['z'], return_counts=True)\n",
    "print(np.asarray((unique, counts)).T)"
   ]
  },
  {
   "cell_type": "markdown",
   "metadata": {},
   "source": [
    "## Statistics"
   ]
  },
  {
   "cell_type": "markdown",
   "metadata": {},
   "source": [
    "### Treatment proportions"
   ]
  },
  {
   "cell_type": "code",
   "execution_count": 16,
   "metadata": {},
   "outputs": [
    {
     "name": "stdout",
     "output_type": "stream",
     "text": [
      "Percentage of T==0: 0.06351065989847715\n",
      "Percentage of T==1: 0.07165380710659898\n",
      "Percentage of T==2: 0.08478781725888325\n",
      "Percentage of T==3: 0.09489137055837564\n",
      "Percentage of T==4: 0.11385380710659898\n",
      "Percentage of T==5: 0.14179492385786802\n",
      "Percentage of T==6: 0.17928730964467005\n",
      "Percentage of T==7: 0.2502203045685279\n"
     ]
    }
   ],
   "source": [
    "print('Percentage of T==0: {}'.format(sum(temp_all['z']==0)/len(temp_all)))\n",
    "print('Percentage of T==1: {}'.format(sum(temp_all['z']==1)/len(temp_all)))\n",
    "print('Percentage of T==2: {}'.format(sum(temp_all['z']==2)/len(temp_all)))\n",
    "print('Percentage of T==3: {}'.format(sum(temp_all['z']==3)/len(temp_all)))\n",
    "print('Percentage of T==4: {}'.format(sum(temp_all['z']==4)/len(temp_all)))\n",
    "print('Percentage of T==5: {}'.format(sum(temp_all['z']==5)/len(temp_all)))\n",
    "print('Percentage of T==6: {}'.format(sum(temp_all['z']==6)/len(temp_all)))\n",
    "print('Percentage of T==7: {}'.format(sum(temp_all['z']==7)/len(temp_all)))"
   ]
  },
  {
   "cell_type": "markdown",
   "metadata": {},
   "source": [
    "### Mean values of the true effects "
   ]
  },
  {
   "cell_type": "code",
   "execution_count": 17,
   "metadata": {},
   "outputs": [
    {
     "name": "stdout",
     "output_type": "stream",
     "text": [
      "True average y_0: 12.33489368945104\n",
      "True average y_1: 15.65469398626746\n",
      "True average y_2: 28.223920867166733\n",
      "True average y_3: 53.35391923225846\n",
      "True average y_4: 90.66745946628207\n",
      "True average y_5: 138.39588799944843\n",
      "True average y_6: 194.52331553764918\n",
      "True average y_7: 257.27793717354143\n"
     ]
    }
   ],
   "source": [
    "print('True average y_0: {}'.format(temp_all['y_0'].mean()))\n",
    "print('True average y_1: {}'.format(temp_all['y_1'].mean()))\n",
    "print('True average y_2: {}'.format(temp_all['y_2'].mean()))\n",
    "print('True average y_3: {}'.format(temp_all['y_3'].mean()))\n",
    "print('True average y_4: {}'.format(temp_all['y_4'].mean()))\n",
    "print('True average y_5: {}'.format(temp_all['y_5'].mean()))\n",
    "print('True average y_6: {}'.format(temp_all['y_6'].mean()))\n",
    "print('True average y_7: {}'.format(temp_all['y_7'].mean()))"
   ]
  },
  {
   "cell_type": "markdown",
   "metadata": {},
   "source": [
    "### Mean values of the observable, biased effects"
   ]
  },
  {
   "cell_type": "code",
   "execution_count": 18,
   "metadata": {},
   "outputs": [
    {
     "name": "stdout",
     "output_type": "stream",
     "text": [
      "Biased average y0: 11.827890224466364\n",
      "Biased average y1: 17.68197601685928\n",
      "Biased average y2: 30.881075381894533\n",
      "Biased average y3: 56.32410689664916\n",
      "Biased average y4: 93.30016832064908\n",
      "Biased average y5: 140.81240794160075\n",
      "Biased average y6: 194.661518684444\n",
      "Biased average y7: 252.38666886265997\n"
     ]
    }
   ],
   "source": [
    "print('Biased average y0: {}'.format(temp_all.y[temp_all.z==0].mean()))\n",
    "print('Biased average y1: {}'.format(temp_all.y[temp_all.z==1].mean()))\n",
    "print('Biased average y2: {}'.format(temp_all.y[temp_all.z==2].mean()))\n",
    "print('Biased average y3: {}'.format(temp_all.y[temp_all.z==3].mean()))\n",
    "print('Biased average y4: {}'.format(temp_all.y[temp_all.z==4].mean()))\n",
    "print('Biased average y5: {}'.format(temp_all.y[temp_all.z==5].mean()))\n",
    "print('Biased average y6: {}'.format(temp_all.y[temp_all.z==6].mean()))\n",
    "print('Biased average y7: {}'.format(temp_all.y[temp_all.z==7].mean()))"
   ]
  },
  {
   "cell_type": "code",
   "execution_count": 19,
   "metadata": {},
   "outputs": [],
   "source": [
    "b1 = abs( (temp_all['mu_1'].mean() - temp_all['mu_0'].mean()))\n",
    "b2 = abs( (temp_all['mu_2'].mean() - temp_all['mu_0'].mean()))\n",
    "b3 = abs( (temp_all['mu_3'].mean() - temp_all['mu_0'].mean()))\n",
    "b4 = abs( (temp_all['mu_4'].mean() - temp_all['mu_0'].mean()) )\n",
    "b5 = abs( (temp_all['mu_5'].mean() - temp_all['mu_0'].mean()) )\n",
    "b6 = abs( (temp_all['mu_6'].mean() - temp_all['mu_0'].mean()) )\n",
    "b7 = abs( (temp_all['mu_7'].mean() - temp_all['mu_0'].mean()) )"
   ]
  },
  {
   "cell_type": "code",
   "execution_count": 20,
   "metadata": {},
   "outputs": [
    {
     "name": "stdout",
     "output_type": "stream",
     "text": [
      "Bias 0: 3.318960095028425\n",
      "Bias 0: 15.887101807851392\n",
      "Bias 0: 41.01849749526708\n",
      "Bias 0: 78.33207145200834\n",
      "Bias 0: 126.06047852719934\n",
      "Bias 0: 182.18817880382142\n",
      "Bias 0: 244.94437596770905\n"
     ]
    }
   ],
   "source": [
    "print('True ATE 1: {}'.format(b1))\n",
    "print('True ATE 2: {}'.format(b2))\n",
    "print('True ATE 3: {}'.format(b3))\n",
    "print('True ATE 4: {}'.format(b4))\n",
    "print('True ATE 5: {}'.format(b5))\n",
    "print('True ATE 6: {}'.format(b6))\n",
    "print('True ATE 7: {}'.format(b7))"
   ]
  },
  {
   "cell_type": "code",
   "execution_count": 21,
   "metadata": {},
   "outputs": [],
   "source": [
    "b1 = abs( (temp_all['y_1'].mean() - temp_all['y_0'].mean()) - (temp_all.y[temp_all.z==1].mean() - temp_all.y[temp_all.z==0].mean()) )\n",
    "b2 = abs( (temp_all['y_2'].mean() - temp_all['y_0'].mean()) - (temp_all.y[temp_all.z==2].mean() - temp_all.y[temp_all.z==0].mean()) )\n",
    "b3 = abs( (temp_all['y_3'].mean() - temp_all['y_0'].mean()) - (temp_all.y[temp_all.z==3].mean() - temp_all.y[temp_all.z==0].mean()) )\n",
    "b4 = abs( (temp_all['y_4'].mean() - temp_all['y_0'].mean()) - (temp_all.y[temp_all.z==4].mean() - temp_all.y[temp_all.z==0].mean()) )\n",
    "b5 = abs( (temp_all['y_5'].mean() - temp_all['y_0'].mean()) - (temp_all.y[temp_all.z==5].mean() - temp_all.y[temp_all.z==0].mean()) )\n",
    "b6 = abs( (temp_all['y_6'].mean() - temp_all['y_0'].mean()) - (temp_all.y[temp_all.z==6].mean() - temp_all.y[temp_all.z==0].mean()) )\n",
    "b7 = abs( (temp_all['y_7'].mean() - temp_all['y_0'].mean()) - (temp_all.y[temp_all.z==7].mean() - temp_all.y[temp_all.z==0].mean()) )\n"
   ]
  },
  {
   "cell_type": "code",
   "execution_count": 22,
   "metadata": {},
   "outputs": [
    {
     "name": "stdout",
     "output_type": "stream",
     "text": [
      "Bias 0: 2.534285495576496\n",
      "Bias 0: 3.164157979712474\n",
      "Bias 0: 3.4771911293753703\n",
      "Bias 0: 3.1397123193516876\n",
      "Bias 0: 2.9235234071369973\n",
      "Bias 0: 0.6452066117794857\n",
      "Bias 0: 4.38426484589678\n"
     ]
    }
   ],
   "source": [
    "print('Bias 0: {}'.format(b1))\n",
    "print('Bias 1: {}'.format(b2))\n",
    "print('Bias 2: {}'.format(b3))\n",
    "print('Bias 3: {}'.format(b4))\n",
    "print('Bias 4: {}'.format(b5))\n",
    "print('Bias 5: {}'.format(b6))\n",
    "print('Bias 6: {}'.format(b7))\n"
   ]
  },
  {
   "cell_type": "code",
   "execution_count": 23,
   "metadata": {},
   "outputs": [
    {
     "data": {
      "text/plain": [
       "20.26834178882929"
      ]
     },
     "execution_count": 23,
     "metadata": {},
     "output_type": "execute_result"
    }
   ],
   "source": [
    "b1+b2+b3+b4+b5+b6+b7"
   ]
  },
  {
   "cell_type": "code",
   "execution_count": 24,
   "metadata": {},
   "outputs": [],
   "source": [
    "b1 = abs((temp_all.y[temp_all.z==1].mean() - temp_all.y[temp_all.z==0].mean()) - (temp_all.y_1 - temp_all.y_0).mean()) / abs(temp_all.y_1 - temp_all.y_0).mean() * 100\n",
    "b2 = abs((temp_all.y[temp_all.z==2].mean() - temp_all.y[temp_all.z==0].mean()) - (temp_all.y_2 - temp_all.y_0).mean()) / abs(temp_all.y_2 - temp_all.y_0).mean() * 100\n",
    "b3 = abs((temp_all.y[temp_all.z==3].mean() - temp_all.y[temp_all.z==0].mean()) - (temp_all.y_3 - temp_all.y_0).mean()) / abs(temp_all.y_3 - temp_all.y_0).mean() * 100\n",
    "b4 = abs((temp_all.y[temp_all.z==4].mean() - temp_all.y[temp_all.z==0].mean()) - (temp_all.y_4 - temp_all.y_0).mean()) / abs(temp_all.y_4 - temp_all.y_0).mean() * 100\n",
    "b5 = abs((temp_all.y[temp_all.z==5].mean() - temp_all.y[temp_all.z==0].mean()) - (temp_all.y_5 - temp_all.y_0).mean()) / abs(temp_all.y_5 - temp_all.y_0).mean() * 100\n",
    "b6 = abs((temp_all.y[temp_all.z==6].mean() - temp_all.y[temp_all.z==0].mean()) - (temp_all.y_6 - temp_all.y_0).mean()) / abs(temp_all.y_6 - temp_all.y_0).mean() * 100\n",
    "b7 = abs((temp_all.y[temp_all.z==7].mean() - temp_all.y[temp_all.z==0].mean()) - (temp_all.y_7 - temp_all.y_0).mean()) / abs(temp_all.y_7 - temp_all.y_0).mean() * 100"
   ]
  },
  {
   "cell_type": "code",
   "execution_count": 25,
   "metadata": {},
   "outputs": [
    {
     "name": "stdout",
     "output_type": "stream",
     "text": [
      "Bias 0 perc: 53.55386890639184\n",
      "Bias 1 perc: 18.442440354611175\n",
      "Bias 2 perc: 8.269164863637132\n",
      "Bias 3 perc: 3.9671896077297624\n",
      "Bias 4 perc: 2.3073910120851115\n",
      "Bias 5 perc: 0.35310344017127654\n",
      "Bias 6 perc: 1.786650929840108\n"
     ]
    }
   ],
   "source": [
    "print('Bias 0 perc: {}'.format(b1))\n",
    "print('Bias 1 perc: {}'.format(b2))\n",
    "print('Bias 2 perc: {}'.format(b3))\n",
    "print('Bias 3 perc: {}'.format(b4))\n",
    "print('Bias 4 perc: {}'.format(b5))\n",
    "print('Bias 5 perc: {}'.format(b6))\n",
    "print('Bias 6 perc: {}'.format(b7))"
   ]
  },
  {
   "cell_type": "code",
   "execution_count": 26,
   "metadata": {},
   "outputs": [
    {
     "name": "stdout",
     "output_type": "stream",
     "text": [
      "total: 88.67980911446641\n"
     ]
    }
   ],
   "source": [
    "print('total: {}'.format(b1+b2+b3+b4+b5+b6+b7))"
   ]
  },
  {
   "cell_type": "markdown",
   "metadata": {},
   "source": [
    "### Save parameters"
   ]
  },
  {
   "cell_type": "code",
   "execution_count": null,
   "metadata": {},
   "outputs": [],
   "source": []
  }
 ],
 "metadata": {
  "kernelspec": {
   "display_name": "tensorflow-gpu-kernel",
   "language": "python",
   "name": "tensorflow-gpu-kernel"
  },
  "language_info": {
   "codemirror_mode": {
    "name": "ipython",
    "version": 3
   },
   "file_extension": ".py",
   "mimetype": "text/x-python",
   "name": "python",
   "nbconvert_exporter": "python",
   "pygments_lexer": "ipython3",
   "version": "3.9.15"
  }
 },
 "nbformat": 4,
 "nbformat_minor": 4
}
