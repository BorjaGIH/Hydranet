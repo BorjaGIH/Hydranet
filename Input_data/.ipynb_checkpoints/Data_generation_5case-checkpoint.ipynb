{
 "cells": [
  {
   "cell_type": "markdown",
   "metadata": {},
   "source": [
    "## Semi-synthetic data generation with IHDP - 5-valued treatment\n",
    "## Based on Vincent Dorie's NPCI's DGP from https://github.com/vdorie/npci"
   ]
  },
  {
   "cell_type": "code",
   "execution_count": 1,
   "metadata": {},
   "outputs": [],
   "source": [
    "import sklearn\n",
    "import numpy as np\n",
    "import keras\n",
    "import pandas as pd\n",
    "import tensorflow as tf"
   ]
  },
  {
   "cell_type": "markdown",
   "metadata": {},
   "source": [
    "### Read and process covariates"
   ]
  },
  {
   "cell_type": "code",
   "execution_count": 37,
   "metadata": {},
   "outputs": [],
   "source": [
    "np.random.seed(3)\n",
    "\n",
    "# Read\n",
    "covar_file = '/home/bvelasco/Hydranet_script/Input_data/ihdp.csv'\n",
    "covars = pd.read_csv(covar_file)\n",
    "#covars.sample(frac=0.01)\n",
    "\n",
    "bias_size = 100\n",
    "\n",
    "\n",
    "# Augment data (replicate)\n",
    "number_of_replications=15\n",
    "covars = covars.loc[covars.index.repeat(number_of_replications)]\n",
    "#covars = covars.sample(frac=1).reset_index(drop=True)\n",
    "covars = covars.reset_index(drop=True)\n",
    "\n",
    "# Drop unneeded\n",
    "covars.drop(['Unnamed: 0'], axis=1, inplace=True)\n",
    "\n",
    "# Fix 'first' var\n",
    "covars['first'] = covars['first']-1\n",
    "\n",
    "# Continuous vars\n",
    "conts = ['bw', 'b.head', 'preterm', 'birth.o', 'nnhealth', 'momage']\n",
    "# Binary vars\n",
    "binar = [var for var in list(covars.columns.values) if var not in conts]\n",
    "\n",
    "# Normalize continuous vars\n",
    "for col in conts:\n",
    "    covars[col] = (covars[col]-covars[col].mean())/covars[col].std()\n",
    "    "
   ]
  },
  {
   "cell_type": "markdown",
   "metadata": {},
   "source": [
    "### Distribution of example vars before adding noise"
   ]
  },
  {
   "cell_type": "code",
   "execution_count": 38,
   "metadata": {
    "jupyter": {
     "source_hidden": true
    }
   },
   "outputs": [
    {
     "data": {
      "text/plain": [
       "<AxesSubplot:>"
      ]
     },
     "execution_count": 38,
     "metadata": {},
     "output_type": "execute_result"
    },
    {
     "data": {
      "image/png": "[encoded data removed]",
      "text/plain": [
       "<Figure size 432x288 with 1 Axes>"
      ]
     },
     "metadata": {
      "needs_background": "light"
     },
     "output_type": "display_data"
    }
   ],
   "source": [
    "covars.bw.hist(bins=15)"
   ]
  },
  {
   "cell_type": "code",
   "execution_count": 39,
   "metadata": {
    "jupyter": {
     "source_hidden": true
    }
   },
   "outputs": [
    {
     "data": {
      "text/plain": [
       "<AxesSubplot:>"
      ]
     },
     "execution_count": 39,
     "metadata": {},
     "output_type": "execute_result"
    },
    {
     "data": {
      "image/png": "[encoded data removed]",
      "text/plain": [
       "<Figure size 432x288 with 1 Axes>"
      ]
     },
     "metadata": {
      "needs_background": "light"
     },
     "output_type": "display_data"
    }
   ],
   "source": [
    "covars.momhisp.hist(bins=3)"
   ]
  },
  {
   "cell_type": "code",
   "execution_count": 40,
   "metadata": {
    "jupyter": {
     "source_hidden": true
    }
   },
   "outputs": [],
   "source": [
    "# Add noise continuous vars\n",
    "for col in conts:\n",
    "    normal_noise = np.random.normal(0,0.8,len(covars))\n",
    "    uniform_noise = np.random.uniform(-0.5,0.5,len(covars))\n",
    "    covars[col] = covars[col] + uniform_noise\n"
   ]
  },
  {
   "cell_type": "code",
   "execution_count": 41,
   "metadata": {
    "jupyter": {
     "source_hidden": true
    }
   },
   "outputs": [
    {
     "name": "stderr",
     "output_type": "stream",
     "text": [
      "/home/bvelasco/.conda/envs/python3.6/lib/python3.6/site-packages/ipykernel_launcher.py:4: SettingWithCopyWarning: \n",
      "A value is trying to be set on a copy of a slice from a DataFrame.\n",
      "Try using .loc[row_indexer,col_indexer] = value instead\n",
      "\n",
      "See the caveats in the documentation: https://pandas.pydata.org/pandas-docs/stable/user_guide/indexing.html#returning-a-view-versus-a-copy\n",
      "  after removing the cwd from sys.path.\n"
     ]
    }
   ],
   "source": [
    "# Add noise to binary vars\n",
    "for col in binar:\n",
    "    binomial_noise = np.random.binomial(1, 0.2, len(covars))\n",
    "    covars.loc[binomial_noise==0][col] = 1-covars.loc[binomial_noise==0,col]\n"
   ]
  },
  {
   "cell_type": "markdown",
   "metadata": {},
   "source": [
    "### Distribution of var bw after adding noise"
   ]
  },
  {
   "cell_type": "code",
   "execution_count": 42,
   "metadata": {},
   "outputs": [
    {
     "data": {
      "text/plain": [
       "<AxesSubplot:>"
      ]
     },
     "execution_count": 42,
     "metadata": {},
     "output_type": "execute_result"
    },
    {
     "data": {
      "image/png": "[encoded data removed]",
      "text/plain": [
       "<Figure size 432x288 with 1 Axes>"
      ]
     },
     "metadata": {
      "needs_background": "light"
     },
     "output_type": "display_data"
    }
   ],
   "source": [
    "covars.bw.hist(bins=15)"
   ]
  },
  {
   "cell_type": "code",
   "execution_count": 43,
   "metadata": {
    "jupyter": {
     "source_hidden": true
    }
   },
   "outputs": [
    {
     "data": {
      "text/plain": [
       "<AxesSubplot:>"
      ]
     },
     "execution_count": 43,
     "metadata": {},
     "output_type": "execute_result"
    },
    {
     "data": {
      "image/png": "[encoded data removed]",
      "text/plain": [
       "<Figure size 432x288 with 1 Axes>"
      ]
     },
     "metadata": {
      "needs_background": "light"
     },
     "output_type": "display_data"
    }
   ],
   "source": [
    "covars.momhisp.hist(bins=3)"
   ]
  },
  {
   "cell_type": "markdown",
   "metadata": {},
   "source": [
    "### Treatment assignment and Response surfaces"
   ]
  },
  {
   "cell_type": "code",
   "execution_count": 44,
   "metadata": {},
   "outputs": [],
   "source": [
    "# Paramters\n",
    "#t_vals = np.array([0,1,2]) # treatment options\n",
    "t_vals = np.array([0,1,2,3,4])\n",
    "beta_vals = np.arange(0.0, 0.5, 0.1) # beta values\n",
    "beta_probs = np.array([0.7, 0.15, 0.1, 0.03, 0.02]) # beta probs\n",
    "w = np.ones((covars.shape[0], covars.shape[1]-1))*0.5 # offset matrix \n",
    "sigma = 1 # std\n",
    "num_reps = 50\n",
    "\n",
    "\n",
    "temp_all = pd.DataFrame(columns=['bw', 'b.head', 'preterm', 'birth.o', 'nnhealth', 'momage', 'sex',\n",
    "       'twin', 'b.marr', 'mom.lths', 'mom.hs', 'mom.scoll', 'cig', 'first',\n",
    "       'booze', 'drugs', 'work.dur', 'prenatal', 'ark', 'ein', 'har', 'mia',\n",
    "       'pen', 'tex', 'was', 'momwhite', 'momblack', 'momhisp', 'mu_0', 'mu_1',\n",
    "       'mu_2', 'mu_3', 'mu_4', 'y_0', 'y_1', 'y_2', 'y_3', 'y_4', 'y', 'z'])\n",
    "for i in range(num_reps):\n",
    "    \n",
    "    # Treatment assignment (probabilistic based on covariate, non-random)\n",
    "    t_momblack = np.random.choice(t_vals, covars[covars.momblack==1].shape[0],    replace=True, p=np.array([0.8, 0.05, 0.05, 0.05, 0.05]))\n",
    "    t_momwhite = np.random.choice(t_vals, covars[covars.momwhite==1].shape[0],    replace=True, p=np.array([0.05, 0.8, 0.05, 0.05, 0.05]))\n",
    "    t_momhisp = np.random.choice(t_vals, covars[covars.momhisp==1].shape[0],      replace=True, p=np.array([0.05, 0.05, 0.8, 0.05, 0.05]))\n",
    "    t_preterm_big = np.random.choice(t_vals, covars[covars.preterm>8].shape[0],  replace=True, p=np.array([0.05, 0.05, 0.05, 0.8, 0.05]))\n",
    "    t_preterm_small = np.random.choice(t_vals, covars[(covars.momblack==1) & (covars.preterm<8)].shape[0],replace=True, p=np.array([0.05, 0.05, 0.05, 0.05, 0.8]))\n",
    "    \n",
    "    \n",
    "    covars.loc[(covars['momblack']==1), 'treat'] = t_momblack\n",
    "    covars.loc[(covars['momwhite']==1), 'treat'] = t_momwhite\n",
    "    covars.loc[(covars['momhisp']==1), 'treat'] = t_momhisp\n",
    "    covars.loc[((covars['preterm']>6) & (covars['momhisp']==1)), 'treat'] = t_preterm_big\n",
    "    covars.loc[((covars['preterm']<6) & (covars['momblack']==1)), 'treat'] = t_preterm_small\n",
    "\n",
    "    covars.reset_index(inplace=True, drop=True)\n",
    "    z = covars['treat']\n",
    "    covars.drop(['treat'], axis=1, inplace=True)\n",
    "    covars_tab = covars.copy()\n",
    "    #covars = covars.to_numpy()\n",
    "    \n",
    "    # Parameters  \n",
    "    beta = np.random.choice(beta_vals, covars.shape[1], replace=True, p=beta_probs) # multiplying vector\n",
    "    w = np.ones((covars.shape))*0.5 # offset matrix \n",
    "    \n",
    "    # Response surface functions (function and sampling from distribution)\n",
    "    #print(sum(covars.preterm))\n",
    "    #print(sum(covars.to_numpy()[:,2]))\n",
    "    #f_0 = lambda x: np.exp(np.matmul((x + w),beta)) + bias_size*x[:,26] # additive term for displacing the mean of the normal distribution based on T\n",
    "    #f_1 = lambda x: np.log(np.abs(np.matmul(x,beta))+1e-10) + 60*x[:,25]\n",
    "    #f_2 = lambda x: np.matmul(x,beta) + 40*x[:,27]\n",
    "    #f_3 = lambda x: np.exp(np.matmul((x + w),beta)) + 10*bias_size*x[:,2]\n",
    "    #f_4 = lambda x: np.log(np.abs(np.matmul((x + w),beta))+1e-10) + 30*x[:,2]\n",
    "    #y_f = lambda x: np.random.normal(x, sigma)\n",
    "    \n",
    "    f_0 = lambda x: np.exp(np.matmul((x + w),beta)) + bias_size*x[:,26] # additive term for displacing the mean of the normal distribution based on T\n",
    "    f_1 = lambda x: np.log(np.abs(np.matmul(x,beta))+1e-10) + bias_size*x[:,25]\n",
    "    f_2 = lambda x: np.matmul(x,beta) + bias_size*x[:,27]\n",
    "    f_3 = lambda x: np.exp(np.matmul((x + w),beta)) + bias_size*x[:,2]\n",
    "    f_4 = lambda x: np.log(np.abs(np.matmul((x + w),beta))+1e-10) + bias_size*x[:,2]\n",
    "    y_f = lambda x: np.random.normal(x, sigma)\n",
    "\n",
    "    # Compute true effect\n",
    "    covars_tab['mu_0'] = f_0(covars.to_numpy())\n",
    "    covars_tab['mu_1'] = f_1(covars.to_numpy())\n",
    "    covars_tab['mu_2'] = f_2(covars.to_numpy())\n",
    "    covars_tab['mu_3'] = f_3(covars.to_numpy())\n",
    "    covars_tab['mu_4'] = f_4(covars.to_numpy())\n",
    "\n",
    "    # Sample from normal distribution\n",
    "    covars_tab['y_0'] = y_f(covars_tab.mu_0)\n",
    "    covars_tab['y_1'] = y_f(covars_tab.mu_1)\n",
    "    covars_tab['y_2'] = y_f(covars_tab.mu_2)\n",
    "    covars_tab['y_3'] = y_f(covars_tab.mu_3)\n",
    "    covars_tab['y_4'] = y_f(covars_tab.mu_4)\n",
    "    \n",
    "    y = covars_tab.y_0.copy()\n",
    "    y[z==0] = covars_tab.y_0[z==0].values\n",
    "    y[z==1] = covars_tab.y_1[z==1].values\n",
    "    y[z==2] = covars_tab.y_2[z==2].values\n",
    "    y[z==3] = covars_tab.y_3[z==3].values\n",
    "    y[z==4] = covars_tab.y_4[z==4].values\n",
    "\n",
    "    covars_tab['y'] = y\n",
    "    covars_tab['z'] = z.astype(int)\n",
    "    \n",
    "    temp_all = pd.concat([temp_all, covars_tab], axis=0)\n",
    "\n",
    "    filename = '/home/bvelasco/Hydranet_script/Input_data/ihdp/five_case/bias_{}/ihdp_five_{}.csv'.format(bias_size,i)\n",
    "    covars_tab.to_csv(filename)\n",
    "    "
   ]
  },
  {
   "cell_type": "markdown",
   "metadata": {},
   "source": [
    "## Statistics"
   ]
  },
  {
   "cell_type": "markdown",
   "metadata": {},
   "source": [
    "### Confounder proportions"
   ]
  },
  {
   "cell_type": "code",
   "execution_count": 11,
   "metadata": {
    "jupyter": {
     "source_hidden": true
    }
   },
   "outputs": [
    {
     "data": {
      "text/plain": [
       "0.1065989847715736"
      ]
     },
     "execution_count": 11,
     "metadata": {},
     "output_type": "execute_result"
    }
   ],
   "source": [
    "sum(temp_all['momhisp']==1)/len(temp_all)"
   ]
  },
  {
   "cell_type": "code",
   "execution_count": 12,
   "metadata": {
    "jupyter": {
     "source_hidden": true
    }
   },
   "outputs": [
    {
     "data": {
      "text/plain": [
       "0.5248730964467005"
      ]
     },
     "execution_count": 12,
     "metadata": {},
     "output_type": "execute_result"
    }
   ],
   "source": [
    "sum(temp_all['momblack']==1)/len(temp_all)"
   ]
  },
  {
   "cell_type": "code",
   "execution_count": 13,
   "metadata": {
    "jupyter": {
     "source_hidden": true
    }
   },
   "outputs": [
    {
     "data": {
      "text/plain": [
       "0.36852791878172586"
      ]
     },
     "execution_count": 13,
     "metadata": {},
     "output_type": "execute_result"
    }
   ],
   "source": [
    "sum(temp_all['momwhite']==1)/len(temp_all)"
   ]
  },
  {
   "cell_type": "markdown",
   "metadata": {},
   "source": [
    "### Treatment proportions"
   ]
  },
  {
   "cell_type": "code",
   "execution_count": 14,
   "metadata": {},
   "outputs": [
    {
     "name": "stdout",
     "output_type": "stream",
     "text": [
      "Percentage of T==0: 0.0499736040609137\n",
      "Percentage of T==1: 0.3262673434856176\n",
      "Percentage of T==2: 0.13020642978003383\n",
      "Percentage of T==3: 0.050548900169204734\n",
      "Percentage of T==4: 0.4430037225042301\n"
     ]
    }
   ],
   "source": [
    "print('Percentage of T==0: {}'.format(sum(temp_all['z']==0)/len(temp_all)))\n",
    "print('Percentage of T==1: {}'.format(sum(temp_all['z']==1)/len(temp_all)))\n",
    "print('Percentage of T==2: {}'.format(sum(temp_all['z']==2)/len(temp_all)))\n",
    "print('Percentage of T==3: {}'.format(sum(temp_all['z']==3)/len(temp_all)))\n",
    "print('Percentage of T==4: {}'.format(sum(temp_all['z']==4)/len(temp_all)))\n"
   ]
  },
  {
   "cell_type": "markdown",
   "metadata": {},
   "source": [
    "### Mean values of the true effects "
   ]
  },
  {
   "cell_type": "code",
   "execution_count": 15,
   "metadata": {},
   "outputs": [
    {
     "name": "stdout",
     "output_type": "stream",
     "text": [
      "True average y_0: 19.420460234875126\n",
      "True average y_1: 9.746794326741856\n",
      "True average y_2: 3.5789627800990753\n",
      "True average y_3: 3.6836265107089052\n",
      "True average y_4: 0.06218989700198979\n"
     ]
    }
   ],
   "source": [
    "print('True average y_0: {}'.format(temp_all['y_0'].mean()))\n",
    "print('True average y_1: {}'.format(temp_all['y_1'].mean()))\n",
    "print('True average y_2: {}'.format(temp_all['y_2'].mean()))\n",
    "print('True average y_3: {}'.format(temp_all['y_3'].mean()))\n",
    "print('True average y_4: {}'.format(temp_all['y_4'].mean()))\n"
   ]
  },
  {
   "cell_type": "markdown",
   "metadata": {},
   "source": [
    "### Mean values of the observable, biased effects"
   ]
  },
  {
   "cell_type": "code",
   "execution_count": 16,
   "metadata": {},
   "outputs": [
    {
     "name": "stdout",
     "output_type": "stream",
     "text": [
      "Biased average y0: 19.40113122403759\n",
      "Biased average y1: 25.93481164266249\n",
      "Biased average y2: 20.010237901693504\n",
      "Biased average y3: 3.5387383987627197\n",
      "Biased average y4: -0.4689870628784298\n"
     ]
    }
   ],
   "source": [
    "print('Biased average y0: {}'.format(temp_all.y[temp_all.z==0].mean()))\n",
    "print('Biased average y1: {}'.format(temp_all.y[temp_all.z==1].mean()))\n",
    "print('Biased average y2: {}'.format(temp_all.y[temp_all.z==2].mean()))\n",
    "print('Biased average y3: {}'.format(temp_all.y[temp_all.z==3].mean()))\n",
    "print('Biased average y4: {}'.format(temp_all.y[temp_all.z==4].mean()))\n"
   ]
  },
  {
   "cell_type": "markdown",
   "metadata": {},
   "source": [
    "### Individual and total bias"
   ]
  },
  {
   "cell_type": "code",
   "execution_count": 17,
   "metadata": {},
   "outputs": [
    {
     "name": "stdout",
     "output_type": "stream",
     "text": [
      "Bias 0: 16.207346326758167\n",
      "Bias 0: 16.450604132431963\n",
      "Bias 0: 0.1255591011086512\n",
      "Bias 0: 0.5118479490428847\n"
     ]
    }
   ],
   "source": [
    "print('Bias 0: {}'.format(abs( (temp_all['y_1'].mean() - temp_all['y_0'].mean()) - (temp_all.y[temp_all.z==1].mean() - temp_all.y[temp_all.z==0].mean()) )))\n",
    "print('Bias 0: {}'.format(abs( (temp_all['y_2'].mean() - temp_all['y_0'].mean()) - (temp_all.y[temp_all.z==2].mean() - temp_all.y[temp_all.z==0].mean()) )))\n",
    "print('Bias 0: {}'.format(abs( (temp_all['y_3'].mean() - temp_all['y_0'].mean()) - (temp_all.y[temp_all.z==3].mean() - temp_all.y[temp_all.z==0].mean()) )))\n",
    "print('Bias 0: {}'.format(abs( (temp_all['y_4'].mean() - temp_all['y_0'].mean()) - (temp_all.y[temp_all.z==4].mean() - temp_all.y[temp_all.z==0].mean()) )))\n"
   ]
  },
  {
   "cell_type": "code",
   "execution_count": 18,
   "metadata": {},
   "outputs": [],
   "source": [
    "b1 = abs((temp_all.y[temp_all.z==1].mean() - temp_all.y[temp_all.z==0].mean()) - (temp_all.y_1 - temp_all.y_0).mean()) \n",
    "b2 = abs((temp_all.y[temp_all.z==2].mean() - temp_all.y[temp_all.z==0].mean()) - (temp_all.y_2 - temp_all.y_0).mean()) \n",
    "b3 = abs((temp_all.y[temp_all.z==3].mean() - temp_all.y[temp_all.z==0].mean()) - (temp_all.y_3 - temp_all.y_0).mean()) \n",
    "b4 = abs((temp_all.y[temp_all.z==4].mean() - temp_all.y[temp_all.z==0].mean()) - (temp_all.y_4 - temp_all.y_0).mean()) "
   ]
  },
  {
   "cell_type": "code",
   "execution_count": 19,
   "metadata": {},
   "outputs": [
    {
     "name": "stdout",
     "output_type": "stream",
     "text": [
      "Bias 0: 16.207346326757403\n",
      "Bias 1: 16.450604132431227\n",
      "Bias 2: 0.12555910110891944\n",
      "Bias 3: 0.5118479490433998\n"
     ]
    }
   ],
   "source": [
    "print('Bias 0: {}'.format(b1))\n",
    "print('Bias 1: {}'.format(b2))\n",
    "print('Bias 2: {}'.format(b3))\n",
    "print('Bias 3: {}'.format(b4))\n"
   ]
  },
  {
   "cell_type": "code",
   "execution_count": 20,
   "metadata": {},
   "outputs": [],
   "source": [
    "b1 = abs((temp_all.y[temp_all.z==1].mean() - temp_all.y[temp_all.z==0].mean()) - (temp_all.y_1 - temp_all.y_0).mean()) / abs(temp_all.y_1 - temp_all.y_0).mean() * 100\n",
    "b2 = abs((temp_all.y[temp_all.z==2].mean() - temp_all.y[temp_all.z==0].mean()) - (temp_all.y_2 - temp_all.y_0).mean()) / abs(temp_all.y_2 - temp_all.y_0).mean() * 100\n",
    "b3 = abs((temp_all.y[temp_all.z==3].mean() - temp_all.y[temp_all.z==0].mean()) - (temp_all.y_3 - temp_all.y_0).mean()) / abs(temp_all.y_3 - temp_all.y_0).mean() * 100\n",
    "b4 = abs((temp_all.y[temp_all.z==4].mean() - temp_all.y[temp_all.z==0].mean()) - (temp_all.y_4 - temp_all.y_0).mean()) / abs(temp_all.y_4 - temp_all.y_0).mean() * 100"
   ]
  },
  {
   "cell_type": "code",
   "execution_count": 21,
   "metadata": {},
   "outputs": [
    {
     "name": "stdout",
     "output_type": "stream",
     "text": [
      "Bias 0 perc: 57.678734203664504\n",
      "Bias 1 perc: 76.23986354031527\n",
      "Bias 2 perc: 0.3968994665248542\n",
      "Bias 3 perc: 1.5423075716192745\n"
     ]
    }
   ],
   "source": [
    "print('Bias 0 perc: {}'.format(b1))\n",
    "print('Bias 1 perc: {}'.format(b2))\n",
    "print('Bias 2 perc: {}'.format(b3))\n",
    "print('Bias 3 perc: {}'.format(b4))\n"
   ]
  },
  {
   "cell_type": "code",
   "execution_count": 22,
   "metadata": {},
   "outputs": [
    {
     "name": "stdout",
     "output_type": "stream",
     "text": [
      "total: 135.85780478212388\n"
     ]
    }
   ],
   "source": [
    "print('total: {}'.format(b1+b2+b3+b4))"
   ]
  },
  {
   "cell_type": "markdown",
   "metadata": {},
   "source": [
    "### Save parameters"
   ]
  },
  {
   "cell_type": "code",
   "execution_count": null,
   "metadata": {},
   "outputs": [],
   "source": []
  },
  {
   "cell_type": "markdown",
   "metadata": {},
   "source": [
    "### Individual histograms"
   ]
  },
  {
   "cell_type": "code",
   "execution_count": 23,
   "metadata": {},
   "outputs": [
    {
     "data": {
      "text/plain": [
       "<AxesSubplot:>"
      ]
     },
     "execution_count": 23,
     "metadata": {},
     "output_type": "execute_result"
    },
    {
     "data": {
      "image/png": "[encoded data removed]",
      "text/plain": [
       "<Figure size 432x288 with 1 Axes>"
      ]
     },
     "metadata": {
      "needs_background": "light"
     },
     "output_type": "display_data"
    }
   ],
   "source": [
    "temp_all.y_0.hist(bins=1000)\n",
    "temp_all.y[temp_all.z==0].hist(bins=1000)"
   ]
  },
  {
   "cell_type": "code",
   "execution_count": 24,
   "metadata": {},
   "outputs": [
    {
     "data": {
      "image/png": "[encoded data removed]",
      "text/plain": [
       "<Figure size 432x288 with 1 Axes>"
      ]
     },
     "metadata": {
      "needs_background": "light"
     },
     "output_type": "display_data"
    }
   ],
   "source": [
    "ax=temp_all.y_1.hist(bins=1000)\n",
    "temp_all.y[temp_all.z==1].hist(bins=1000)\n",
    "ax.legend(['Y1', 'Y[T=1]']);\n",
    "fig = ax.get_figure()\n",
    "fig.savefig('{}_y1_y_1.pdf'.format(bias_size))"
   ]
  },
  {
   "cell_type": "code",
   "execution_count": 25,
   "metadata": {},
   "outputs": [
    {
     "name": "stdout",
     "output_type": "stream",
     "text": [
      "Y_1 mean and std: 9.95578502867522, 14.810680791423435\n",
      "Y[T=1] mean and std: 26.420594586499547, 8.97662669496386\n"
     ]
    }
   ],
   "source": [
    "print('Y_1 mean and std: {}, {}'.format(covars_tab.y_1.mean(), covars_tab.y_1.std()))\n",
    "\n",
    "print('Y[T=1] mean and std: {}, {}'.format(covars_tab.y[covars_tab.z==1].mean(), covars_tab.y[covars_tab.z==1].std()))"
   ]
  },
  {
   "cell_type": "code",
   "execution_count": 26,
   "metadata": {},
   "outputs": [
    {
     "data": {
      "text/plain": [
       "<AxesSubplot:>"
      ]
     },
     "execution_count": 26,
     "metadata": {},
     "output_type": "execute_result"
    },
    {
     "data": {
      "image/png": "[encoded data removed]",
      "text/plain": [
       "<Figure size 432x288 with 1 Axes>"
      ]
     },
     "metadata": {
      "needs_background": "light"
     },
     "output_type": "display_data"
    }
   ],
   "source": [
    "temp_all.y_2.hist(bins=1000)\n",
    "temp_all.y[temp_all.z==2].hist(bins=1000)"
   ]
  },
  {
   "cell_type": "code",
   "execution_count": 27,
   "metadata": {},
   "outputs": [
    {
     "data": {
      "text/plain": [
       "<AxesSubplot:>"
      ]
     },
     "execution_count": 27,
     "metadata": {},
     "output_type": "execute_result"
    },
    {
     "data": {
      "image/png": "[encoded data removed]",
      "text/plain": [
       "<Figure size 432x288 with 1 Axes>"
      ]
     },
     "metadata": {
      "needs_background": "light"
     },
     "output_type": "display_data"
    }
   ],
   "source": [
    "temp_all.y_3.hist(bins=100)\n",
    "temp_all.y[temp_all.z==3].hist(bins=100)"
   ]
  },
  {
   "cell_type": "code",
   "execution_count": 28,
   "metadata": {},
   "outputs": [
    {
     "data": {
      "text/plain": [
       "<AxesSubplot:>"
      ]
     },
     "execution_count": 28,
     "metadata": {},
     "output_type": "execute_result"
    },
    {
     "data": {
      "image/png": "[encoded data removed]",
      "text/plain": [
       "<Figure size 432x288 with 1 Axes>"
      ]
     },
     "metadata": {
      "needs_background": "light"
     },
     "output_type": "display_data"
    }
   ],
   "source": [
    "temp_all.y_4.hist(bins=100)\n",
    "temp_all.y[temp_all.z==4].hist(bins=100)"
   ]
  },
  {
   "cell_type": "markdown",
   "metadata": {},
   "source": [
    "### ATE histograms. THIS IS CONCEPTUALLY WRONG!!!!"
   ]
  },
  {
   "cell_type": "code",
   "execution_count": 28,
   "metadata": {},
   "outputs": [
    {
     "data": {
      "image/png": "[encoded data removed]",
      "text/plain": [
       "<Figure size 432x288 with 1 Axes>"
      ]
     },
     "metadata": {
      "needs_background": "light"
     },
     "output_type": "display_data"
    }
   ],
   "source": [
    "ax = (temp_all.y_1-temp_all.y_0).hist(bins=1000)\n",
    "(temp_all.y[temp_all.z==1]-temp_all.y[temp_all.z==0]).hist(bins=1000)\n",
    "ax.legend(['{}_ATE1-ATE0', 'ATE[T=1]-ATE[T=0]'.format(bias_size)]);"
   ]
  },
  {
   "cell_type": "code",
   "execution_count": 29,
   "metadata": {},
   "outputs": [
    {
     "data": {
      "text/plain": [
       "<AxesSubplot:>"
      ]
     },
     "execution_count": 29,
     "metadata": {},
     "output_type": "execute_result"
    },
    {
     "data": {
      "image/png": "[encoded data removed]",
      "text/plain": [
       "<Figure size 432x288 with 1 Axes>"
      ]
     },
     "metadata": {
      "needs_background": "light"
     },
     "output_type": "display_data"
    }
   ],
   "source": [
    "(temp_all.y_2-temp_all.y_0).hist(bins=1000)\n",
    "(temp_all.y[temp_all.z==2]-temp_all.y[temp_all.z==0]).hist(bins=1000)"
   ]
  },
  {
   "cell_type": "code",
   "execution_count": 30,
   "metadata": {},
   "outputs": [
    {
     "data": {
      "text/plain": [
       "<AxesSubplot:>"
      ]
     },
     "execution_count": 30,
     "metadata": {},
     "output_type": "execute_result"
    },
    {
     "data": {
      "image/png": "[encoded data removed]",
      "text/plain": [
       "<Figure size 432x288 with 1 Axes>"
      ]
     },
     "metadata": {
      "needs_background": "light"
     },
     "output_type": "display_data"
    }
   ],
   "source": [
    "(temp_all.y_3-temp_all.y_0).hist(bins=1000)\n",
    "(temp_all.y[temp_all.z==3]-temp_all.y[temp_all.z==0]).hist(bins=1000)"
   ]
  },
  {
   "cell_type": "code",
   "execution_count": 31,
   "metadata": {},
   "outputs": [
    {
     "data": {
      "text/plain": [
       "<AxesSubplot:>"
      ]
     },
     "execution_count": 31,
     "metadata": {},
     "output_type": "execute_result"
    },
    {
     "data": {
      "image/png": "[encoded data removed]",
      "text/plain": [
       "<Figure size 432x288 with 1 Axes>"
      ]
     },
     "metadata": {
      "needs_background": "light"
     },
     "output_type": "display_data"
    }
   ],
   "source": [
    "(temp_all.y_4-temp_all.y_0).hist(bins=1000)\n",
    "(temp_all.y[temp_all.z==4]-temp_all.y[temp_all.z==0]).hist(bins=1000)"
   ]
  }
 ],
 "metadata": {
  "kernelspec": {
   "display_name": "tensorflow-gpu-kernel",
   "language": "python",
   "name": "tensorflow-gpu-kernel"
  },
  "language_info": {
   "codemirror_mode": {
    "name": "ipython",
    "version": 3
   },
   "file_extension": ".py",
   "mimetype": "text/x-python",
   "name": "python",
   "nbconvert_exporter": "python",
   "pygments_lexer": "ipython3",
   "version": "3.9.15"
  }
 },
 "nbformat": 4,
 "nbformat_minor": 4
}
