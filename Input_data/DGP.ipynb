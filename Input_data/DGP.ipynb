{
 "cells": [
  {
   "cell_type": "markdown",
   "id": "f4643118-90a2-41c1-8329-8fec37295481",
   "metadata": {},
   "source": [
    "# DATA GENERATING PROCESS (DGP) implementation"
   ]
  },
  {
   "cell_type": "code",
   "execution_count": 885,
   "id": "09c1701e-adba-4325-b11d-918a9688ea75",
   "metadata": {},
   "outputs": [],
   "source": [
    "import sklearn\n",
    "import numpy as np\n",
    "import pandas as pd\n",
    "import random\n",
    "import matplotlib.pyplot as plt\n",
    "import numpy.matlib as mat\n",
    "from scipy.stats import truncnorm\n",
    "import matplotlib.pyplot as plt\n",
    "\n",
    "random.seed(1)"
   ]
  },
  {
   "cell_type": "markdown",
   "id": "555c7400-b842-4698-9672-9216a27caf6f",
   "metadata": {
    "tags": []
   },
   "source": [
    "## Tunable knobs:\n",
    "\n",
    "- Number of treatments\n",
    "- Number of confounders\n",
    "- Degree of positivity\n",
    "- Degree of heterogeneity\n",
    "- Bias/Effect ratio"
   ]
  },
  {
   "cell_type": "code",
   "execution_count": 886,
   "id": "9a05b65f-f612-4ecc-bce2-cb0e9997a7b5",
   "metadata": {},
   "outputs": [],
   "source": [
    "# Read matrix of potential covariates\n",
    "ihdp_matrix = pd.read_csv('ihdp.csv')\n",
    "ihdp_matrix.drop(['Unnamed: 0', 'treat'], axis=1, inplace=True)"
   ]
  },
  {
   "cell_type": "code",
   "execution_count": 887,
   "id": "34c6b70e-e7bd-4bbb-a832-3db6d6d5ec3b",
   "metadata": {},
   "outputs": [],
   "source": [
    "# Standardize dataset of potential covariates\n",
    "standardize = lambda x: (x - x.mean())/x.std()\n",
    "ihdp_standar = ihdp_matrix.apply(standardize, axis=1)"
   ]
  },
  {
   "cell_type": "code",
   "execution_count": 888,
   "id": "4f4282b6-1d56-4b96-b0ec-a329e06539f1",
   "metadata": {},
   "outputs": [],
   "source": [
    "# Input parameters\n",
    "number_of_treatments = 5 # 3, 5 or 8\n",
    "number_of_confounders = 20 # 4, 8, 12 or 20\n",
    "positivity = 0.8\n",
    "heterogeneity = 0.8\n",
    "bias_effect_ratio = 0.2\n",
    "repetitions = 50\n",
    "sd_t = 1 # standard deviation of the truncated normal distribution of t\n",
    "\n",
    "# Multiplier vector for t\n",
    "a = np.random.randn(number_of_confounders)"
   ]
  },
  {
   "cell_type": "code",
   "execution_count": 889,
   "id": "0c8a2067-b0e1-4424-a314-b8ac08ccaddc",
   "metadata": {},
   "outputs": [],
   "source": [
    "# Pick covariates\n",
    "covariates = random.choices(ihdp_matrix.columns.values, k=number_of_confounders)"
   ]
  },
  {
   "cell_type": "code",
   "execution_count": 890,
   "id": "724f5190-9312-428e-8a44-12357f989a8a",
   "metadata": {},
   "outputs": [],
   "source": [
    "# Matrix of covariates (standardized)\n",
    "W = ihdp_standar[covariates].to_numpy()"
   ]
  },
  {
   "cell_type": "markdown",
   "id": "8e25ee62-5820-4d75-ac5b-13c9dd8794df",
   "metadata": {},
   "source": [
    "### Treatment"
   ]
  },
  {
   "cell_type": "code",
   "execution_count": null,
   "id": "b887c1ed-ce46-4cee-871b-695cb10c5e1e",
   "metadata": {},
   "outputs": [],
   "source": []
  },
  {
   "cell_type": "code",
   "execution_count": 547,
   "id": "5f04f268-62a8-4586-b7b6-6076ba625a07",
   "metadata": {},
   "outputs": [],
   "source": [
    "def get_truncated_normal(mean, sd, low=0, upp=number_of_treatments):\n",
    "    return truncnorm((low - mean) / sd, (upp - mean) / sd, loc=mean, scale=sd)"
   ]
  },
  {
   "cell_type": "code",
   "execution_count": 819,
   "id": "7bd5ab27-27b3-4788-af31-9ce26d9ec04c",
   "metadata": {},
   "outputs": [],
   "source": [
    "# Treatment function (deterministic part)\n",
    "def treatment(x):\n",
    "    t_prime = ((number_of_treatments/2))*((np.tanh(x)+1))\n",
    "    t_distrib = get_truncated_normal(mean = t_prime, sd = sd_t)\n",
    "    t = np.floor(t_distrib.rvs())\n",
    "    return [t_prime,t]"
   ]
  },
  {
   "cell_type": "code",
   "execution_count": 820,
   "id": "9f4f6e0b-689a-4c4c-a66d-4aa7dd7be2b5",
   "metadata": {},
   "outputs": [],
   "source": [
    "W_a = np.matmul(W,a)\n",
    "W_a_standar = standardize(W_a)"
   ]
  },
  {
   "cell_type": "code",
   "execution_count": 827,
   "id": "227a3f64-30d5-4bb2-b4d6-28bd9880d495",
   "metadata": {},
   "outputs": [],
   "source": [
    "(t_prime,t) = treatment(W_a_standar)"
   ]
  },
  {
   "cell_type": "code",
   "execution_count": 828,
   "id": "dd6dff6e-2cab-4bfc-978d-28d81033f637",
   "metadata": {
    "tags": []
   },
   "outputs": [],
   "source": [
    "#pd.value_counts(t_prime).sort_index()"
   ]
  },
  {
   "cell_type": "code",
   "execution_count": 829,
   "id": "03135d88-8319-4ca2-9698-53ccf95aea5c",
   "metadata": {
    "tags": []
   },
   "outputs": [],
   "source": [
    "#pd.value_counts(t).sort_index()"
   ]
  },
  {
   "cell_type": "code",
   "execution_count": 830,
   "id": "e81be7ae-2813-487f-bfe2-05e41d3b41e0",
   "metadata": {},
   "outputs": [],
   "source": [
    "#fig, ax = plt.subplots(2)\n",
    "#ax[0].hist(t_prime, bins=[0,1,2,3,4,5])\n",
    "#ax[1].hist(t, bins=[0,1,2,3,4,5])\n",
    "#plt.show()"
   ]
  },
  {
   "cell_type": "markdown",
   "id": "1f8e4477-ce86-40ab-86cb-6e79c6d9da74",
   "metadata": {},
   "source": [
    "### Outcome"
   ]
  },
  {
   "cell_type": "code",
   "execution_count": null,
   "id": "45c91086-4904-480f-bb39-00be53b46ba0",
   "metadata": {},
   "outputs": [],
   "source": []
  },
  {
   "cell_type": "code",
   "execution_count": null,
   "id": "15324307-bfaf-4933-9227-a7032101f36b",
   "metadata": {},
   "outputs": [],
   "source": []
  },
  {
   "cell_type": "code",
   "execution_count": null,
   "id": "8e8f704a-d3ac-434c-a286-87292d8dd661",
   "metadata": {},
   "outputs": [],
   "source": []
  },
  {
   "cell_type": "markdown",
   "id": "f2a3cbb5-a5b1-44a6-802b-b2085194a2ba",
   "metadata": {},
   "source": [
    "## Realization characterization parameters:\n",
    "\n",
    "- Average true ATE\n",
    "- Average biased ATE\n",
    "- Average absolute error\n",
    "- Error/true ATE ratio\n",
    "- Treatment assignmet entropy?\n",
    "- PEHE?"
   ]
  },
  {
   "cell_type": "code",
   "execution_count": null,
   "id": "e9c6c5ed-c2c8-43f9-be24-ea5f630d1266",
   "metadata": {},
   "outputs": [],
   "source": []
  },
  {
   "cell_type": "code",
   "execution_count": null,
   "id": "a38f8ee0-d75e-4198-8626-56c5d75d0860",
   "metadata": {},
   "outputs": [],
   "source": []
  },
  {
   "cell_type": "code",
   "execution_count": null,
   "id": "2aaa63cf-fd7d-4a72-b344-3d4e3044da65",
   "metadata": {},
   "outputs": [],
   "source": []
  }
 ],
 "metadata": {
  "kernelspec": {
   "display_name": "tensorflow-gpu-kernel",
   "language": "python",
   "name": "tensorflow-gpu-kernel"
  },
  "language_info": {
   "codemirror_mode": {
    "name": "ipython",
    "version": 3
   },
   "file_extension": ".py",
   "mimetype": "text/x-python",
   "name": "python",
   "nbconvert_exporter": "python",
   "pygments_lexer": "ipython3",
   "version": "3.9.15"
  }
 },
 "nbformat": 4,
 "nbformat_minor": 5
}
